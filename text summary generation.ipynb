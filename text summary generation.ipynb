{
 "cells": [
  {
   "cell_type": "code",
   "execution_count": 1,
   "id": "34375d2c",
   "metadata": {},
   "outputs": [],
   "source": [
    "import nltk\n",
    "from nltk.corpus import stopwords\n",
    "from nltk.tokenize import word_tokenize, sent_tokenize"
   ]
  },
  {
   "cell_type": "code",
   "execution_count": 2,
   "id": "3edf639f",
   "metadata": {},
   "outputs": [],
   "source": [
    "text= \"\"\"\"Environment is the nature and surroundings in which all plants, animals, humans and other living beings live and operate. Every living and non-living thing is related to environment. Environment plays a major role in giving birth to a new life, in the growth of a life, survival of the life and the over-all well-being of any life. It provides us with fresh air that we breathe, water that we drink, food that we eat and almost all the resources for our survival.Environment also provides us with several other natural resources that are very important. Natural resources are the resources that environment gives us naturally without we creating it. It includes sunlight, atmosphere, land, water, plants, animals, sea life, minerals, different species and everything that occurs naturally on earth. It provides us with the resources such as fuels, metals, and most forms of energy to use.Yet we are exploiting environment with the activities that harm environment and are overusing the resources. Human activities transform the natural environment in to human environment by constructing buildings, industries, firms and using the landscapes for the purpose of development. It is vital to use the natural resources carefully and avoid harming the nature for the healthy and naturally wealthy life.\"\"\"\n",
    "stopwords = set(stopwords.words(\"english\"))\n",
    "\n",
    "words = word_tokenize(text)\n",
    "freqTable = dict()\n",
    "\n",
    "for word in words:\n",
    "    word = word.lower()\n",
    "    if word in stopwords:\n",
    "        continue\n",
    "    if word in freqTable:\n",
    "        freqTable[word]=freqTable[word]+1\n",
    "    else:\n",
    "        freqTable[word]=1\n",
    "        \n",
    "sentences = sent_tokenize(text)\n",
    "sentenceValue = dict()\n",
    "\n",
    "for sentence in sentences:\n",
    "    for word, freq in freqTable.items():\n",
    "        if word in sentence.lower():\n",
    "            if sentence in sentenceValue:\n",
    "                sentenceValue[sentence] = sentenceValue[sentence]+ freq\n",
    "            else:\n",
    "                sentenceValue[sentence] = freq\n",
    "\n",
    "sumValues = 0"
   ]
  },
  {
   "cell_type": "code",
   "execution_count": 3,
   "id": "d5996ec7",
   "metadata": {},
   "outputs": [
    {
     "name": "stdout",
     "output_type": "stream",
     "text": [
      "  It provides us with fresh air that we breathe, water that we drink, food that we eat and almost all the resources for our survival.Environment also provides us with several other natural resources that are very important. It provides us with the resources such as fuels, metals, and most forms of energy to use.Yet we are exploiting environment with the activities that harm environment and are overusing the resources.\n"
     ]
    }
   ],
   "source": [
    "for sentence in sentenceValue:\n",
    "    sumValues= sumValues + sentenceValue[sentence]\n",
    "average = int(sumValues / len(sentenceValue))\n",
    "summary=\" \"\n",
    "for sentence in sentences:\n",
    "    if(sentence in sentenceValue) and (sentenceValue[sentence]>(1.2*average)):\n",
    "        summary += \" \"+ sentence \n",
    "print(summary)        "
   ]
  },
  {
   "cell_type": "code",
   "execution_count": null,
   "id": "569c51f8",
   "metadata": {},
   "outputs": [],
   "source": []
  }
 ],
 "metadata": {
  "kernelspec": {
   "display_name": "Python 3",
   "language": "python",
   "name": "python3"
  },
  "language_info": {
   "codemirror_mode": {
    "name": "ipython",
    "version": 3
   },
   "file_extension": ".py",
   "mimetype": "text/x-python",
   "name": "python",
   "nbconvert_exporter": "python",
   "pygments_lexer": "ipython3",
   "version": "3.8.8"
  }
 },
 "nbformat": 4,
 "nbformat_minor": 5
}
